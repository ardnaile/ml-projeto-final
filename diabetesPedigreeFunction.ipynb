{
  "nbformat": 4,
  "nbformat_minor": 0,
  "metadata": {
    "colab": {
      "provenance": [],
      "authorship_tag": "ABX9TyPc9WFK11zT1ZVHf481vqSN",
      "include_colab_link": true
    },
    "kernelspec": {
      "name": "python3",
      "display_name": "Python 3"
    },
    "language_info": {
      "name": "python"
    }
  },
  "cells": [
    {
      "cell_type": "markdown",
      "metadata": {
        "id": "view-in-github",
        "colab_type": "text"
      },
      "source": [
        "<a href=\"https://colab.research.google.com/github/ardnaile/ml-projeto-final/blob/main/diabetesPedigreeFunction.ipynb\" target=\"_parent\"><img src=\"https://colab.research.google.com/assets/colab-badge.svg\" alt=\"Open In Colab\"/></a>"
      ]
    },
    {
      "cell_type": "code",
      "execution_count": null,
      "metadata": {
        "id": "1Zw4buwyN86Y"
      },
      "outputs": [],
      "source": [
        "# Pesos dos parentes com diabetes\n",
        "pai = 0.5\n",
        "irmao = 0.3\n",
        "avo_paterno = 0.1"
      ]
    },
    {
      "cell_type": "code",
      "source": [
        "# Soma dos pesos\n",
        "dpf = pai + irmao + avo_paterno"
      ],
      "metadata": {
        "id": "_-fNgi9tOALo"
      },
      "execution_count": null,
      "outputs": []
    },
    {
      "cell_type": "code",
      "source": [
        "print(f\"A Diabetes Pedigree Function (DPF) é: {dpf}\")"
      ],
      "metadata": {
        "id": "1aA26jnqOCe6"
      },
      "execution_count": null,
      "outputs": []
    }
  ]
}